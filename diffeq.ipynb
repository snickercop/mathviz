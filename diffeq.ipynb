{
 "cells": [
  {
   "cell_type": "code",
   "execution_count": 34,
   "id": "a0608c47",
   "metadata": {},
   "outputs": [],
   "source": [
    "import numpy as np\n",
    "import matplotlib.pyplot as plt\n",
    "import matplotlib.colors as clrs"
   ]
  },
  {
   "cell_type": "code",
   "execution_count": 73,
   "id": "69bc5d84",
   "metadata": {},
   "outputs": [],
   "source": [
    "# CONSTANTS\n",
    "g = 9.8\n",
    "L = 2\n",
    "mu = 0.1\n",
    "\n",
    "THETA_0 = np.pi/4\n",
    "THETA_DOT_0 = 0\n",
    "\n",
    "# model parameters\n",
    "DELTA = 0.001"
   ]
  },
  {
   "cell_type": "code",
   "execution_count": 75,
   "id": "bb709b61",
   "metadata": {},
   "outputs": [
    {
     "ename": "SyntaxError",
     "evalue": "positional argument follows keyword argument (Temp/ipykernel_4404/3163071999.py, line 26)",
     "output_type": "error",
     "traceback": [
      "\u001b[1;36m  File \u001b[1;32m\"C:\\Users\\Legs\\AppData\\Local\\Temp/ipykernel_4404/3163071999.py\"\u001b[1;36m, line \u001b[1;32m26\u001b[0m\n\u001b[1;33m    plt.scatter(points[:,0],points[:,1],c=rainbow,'o')\u001b[0m\n\u001b[1;37m                                                     ^\u001b[0m\n\u001b[1;31mSyntaxError\u001b[0m\u001b[1;31m:\u001b[0m positional argument follows keyword argument\n"
     ]
    }
   ],
   "source": [
    "# define ODE here\n",
    "def theta_double_dot(theta,theta_dot):\n",
    "    return -mu*theta_dot - g*np.sin(theta)/L\n",
    "\n",
    "def make_rainbow(n):\n",
    "    colors = []\n",
    "    step = 1/n\n",
    "    # easily done by using hsv and then converting back\n",
    "    for i in range(n):\n",
    "        colors.append(clrs.hsv_to_rgb([i*step,1.,1.]))\n",
    "    return colors\n",
    "            \n",
    "\n",
    "def phase(t):\n",
    "    theta = THETA_0\n",
    "    theta_dot = THETA_DOT_0\n",
    "    l = [[theta,theta_dot]]\n",
    "    for time in np.arange(0,t,DELTA):\n",
    "        theta += theta_dot * DELTA\n",
    "        theta_dot += theta_double_dot(theta,theta_dot) * DELTA\n",
    "        l.append([theta,theta_dot])\n",
    "    return np.array(l)\n",
    "\n",
    "points = phase(4)\n",
    "rainbow = make_rainbow(points.shape[0])\n",
    "plt.scatter(points[:,0],points[:,1],c=rainbow)\n",
    "plt.show()"
   ]
  },
  {
   "cell_type": "code",
   "execution_count": null,
   "id": "c4f6f199",
   "metadata": {},
   "outputs": [],
   "source": []
  }
 ],
 "metadata": {
  "kernelspec": {
   "display_name": "Python 3 (ipykernel)",
   "language": "python",
   "name": "python3"
  },
  "language_info": {
   "codemirror_mode": {
    "name": "ipython",
    "version": 3
   },
   "file_extension": ".py",
   "mimetype": "text/x-python",
   "name": "python",
   "nbconvert_exporter": "python",
   "pygments_lexer": "ipython3",
   "version": "3.9.5"
  }
 },
 "nbformat": 4,
 "nbformat_minor": 5
}

{
 "cells": [
  {
   "cell_type": "code",
   "execution_count": 124,
   "id": "238ac35d",
   "metadata": {},
   "outputs": [],
   "source": [
    "import numpy as np\n",
    "import matplotlib.pyplot as plt\n"
   ]
  },
  {
   "cell_type": "code",
   "execution_count": 125,
   "id": "e84e0d6d",
   "metadata": {},
   "outputs": [],
   "source": [
    "GRID = {'min':-5,\n",
    "        'max':5,\n",
    "        'steps':10}\n",
    "\n",
    "def space(grid):\n",
    "    try:\n",
    "        return np.linspace(grid['min'],grid['max'],grid['steps'])\n",
    "    except:\n",
    "        return np.linspace(grid[0],grid[1],grid[2])\n",
    "    \n",
    "def plot_field(u,v): # u and v are functions\n",
    "    x,y = np.meshgrid(np.linspace(GRID['min'],GRID['max'],GRID['steps']),np.linspace(GRID['min'],GRID['max'],GRID['steps']))\n",
    "    plt.quiver(x,y,u(x,y),v(x,y))\n",
    "    plt.show()\n",
    "\n",
    "# u is dx, v is dy\n",
    "u = lambda x,y: 2*x\n",
    "v = lambda x,y: x+y\n",
    "\n",
    "#plot_field(u,v)\n"
   ]
  },
  {
   "cell_type": "code",
   "execution_count": 126,
   "id": "960fe7fd",
   "metadata": {},
   "outputs": [],
   "source": [
    "def square(n,density=1):\n",
    "    return space([-n,n,n*density*2])\n",
    "\n",
    "def thetadot(x):\n",
    "    return 3+np.cos(2*x)\n",
    "\n",
    "def theta2dot(x,y):\n",
    "    return -2*y*np.sin(2*x)\n",
    "\n",
    "u = lambda x,y: y\n",
    "v = lambda x,y: theta2dot(x,y)\n",
    "\n",
    "#plot_field(u,v)\n"
   ]
  },
  {
   "cell_type": "code",
   "execution_count": 127,
   "id": "c487d82c",
   "metadata": {},
   "outputs": [
    {
     "name": "stderr",
     "output_type": "stream",
     "text": [
      "<ipython-input-127-2dd755cf4457>:12: RuntimeWarning: invalid value encountered in true_divide\n",
      "  u,v = u/colors,v/colors\n"
     ]
    }
   ],
   "source": [
    "# colorizing stuff\n",
    "import matplotlib.cm as cm\n",
    "from matplotlib.colors import Normalize\n",
    "colormap = cm.Reds\n",
    "\n",
    "x,y = np.meshgrid(space([-7,7,10]),space([0,10,10]))\n",
    "\n",
    "u = y\n",
    "v = theta2dot(x,y)\n",
    "\n",
    "colors = np.hypot(u,v)\n",
    "u,v = u/colors,v/colors\n",
    "#plt.quiver(x,y,u,v,colors,cmap=colormap)\n",
    "#plt.show()"
   ]
  },
  {
   "cell_type": "code",
   "execution_count": 128,
   "id": "f9384b05",
   "metadata": {},
   "outputs": [],
   "source": [
    "# a Field class to store all the settings\n",
    "import sklearn.preprocessing as prep\n",
    "\n",
    "class Field():\n",
    "    zero_fn = lambda v: (v[0]+v[1])*0 # required to fill arrays properly\n",
    "    def __init__(self,xdot=zero_fn,ydot=zero_fn,mag_scale=False,xlims=[-5,5],ylims=[-5,5],density=1):\n",
    "        self.xdot = xdot # function to get xdot\n",
    "        self.ydot = ydot # function to get ydot\n",
    "        self.mag_scale = mag_scale\n",
    "        self.xlims = xlims\n",
    "        self.ylims = ylims\n",
    "        self.density = density\n",
    "        ar = np.arange(-10,10,2)\n",
    "        self.grid = np.array(np.meshgrid(ar,ar)).T.reshape([100,2])\n",
    "        self.xycomps = None\n",
    "        self.arrows=True\n",
    "    def add_diffeq(self,xdot,ydot=zero_fn): # if no y is given, vectors will only be in the x direction--a 1d system\n",
    "        self.xdot = xdot\n",
    "        self.ydot = ydot\n",
    "    def calc_vectors(self,xdot=None,ydot=None):\n",
    "        if xdot is not None:\n",
    "            self.xdot = xdot\n",
    "        if ydot is not None:\n",
    "            self.ydot = ydot\n",
    "        self.xycomps = np.array([self.xdot(self.grid.T),self.ydot(self.grid.T)]).T[:,:,0]\n",
    "        if not self.mag_scale: # make all arrows the same length\n",
    "            self.xycomps = prep.normalize(self.xycomps)\n",
    "            \n",
    "    def plot(self,xdot=None,ydot=None): \n",
    "        if xdot is None:\n",
    "            xdot = self.xdot\n",
    "        if ydot is None:\n",
    "            ydot = self.ydot\n",
    "        self.calc_vectors(xdot=xdot,ydot=ydot)\n",
    "        comps = self.xycomps\n",
    "        x = self.grid[:,0]\n",
    "        y = self.grid[:,1]\n",
    "        plt.quiver(x,y,comps[:,0],comps[:,1],width=.004)\n",
    "        plt.show()\n",
    "    "
   ]
  },
  {
   "cell_type": "code",
   "execution_count": null,
   "id": "b8e04908",
   "metadata": {},
   "outputs": [],
   "source": []
  },
  {
   "cell_type": "code",
   "execution_count": null,
   "id": "746dd645",
   "metadata": {},
   "outputs": [],
   "source": []
  },
  {
   "cell_type": "code",
   "execution_count": null,
   "id": "99932419",
   "metadata": {},
   "outputs": [],
   "source": []
  }
 ],
 "metadata": {
  "kernelspec": {
   "display_name": "Python 3",
   "language": "python",
   "name": "python3"
  },
  "language_info": {
   "codemirror_mode": {
    "name": "ipython",
    "version": 3
   },
   "file_extension": ".py",
   "mimetype": "text/x-python",
   "name": "python",
   "nbconvert_exporter": "python",
   "pygments_lexer": "ipython3",
   "version": "3.8.5"
  }
 },
 "nbformat": 4,
 "nbformat_minor": 5
}
